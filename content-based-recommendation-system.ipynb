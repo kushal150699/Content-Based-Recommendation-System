{
 "cells": [
  {
   "cell_type": "code",
   "execution_count": 1,
   "id": "436c5fad",
   "metadata": {
    "_cell_guid": "b1076dfc-b9ad-4769-8c92-a6c4dae69d19",
    "_uuid": "8f2839f25d086af736a60e9eeb907d3b93b6e0e5",
    "execution": {
     "iopub.execute_input": "2022-02-20T16:18:37.937641Z",
     "iopub.status.busy": "2022-02-20T16:18:37.933580Z",
     "iopub.status.idle": "2022-02-20T16:18:39.065158Z",
     "shell.execute_reply": "2022-02-20T16:18:39.064410Z",
     "shell.execute_reply.started": "2022-02-11T08:19:44.306485Z"
    },
    "papermill": {
     "duration": 1.173423,
     "end_time": "2022-02-20T16:18:39.065361",
     "exception": false,
     "start_time": "2022-02-20T16:18:37.891938",
     "status": "completed"
    },
    "tags": []
   },
   "outputs": [],
   "source": [
    "import numpy as np \n",
    "import pandas as pd \n",
    "import warnings\n",
    "import matplotlib.pyplot as plt\n",
    "import seaborn as sns"
   ]
  },
  {
   "cell_type": "code",
   "execution_count": 2,
   "id": "5abce360",
   "metadata": {
    "execution": {
     "iopub.execute_input": "2022-02-20T16:18:39.134458Z",
     "iopub.status.busy": "2022-02-20T16:18:39.133442Z",
     "iopub.status.idle": "2022-02-20T16:18:39.137463Z",
     "shell.execute_reply": "2022-02-20T16:18:39.137942Z",
     "shell.execute_reply.started": "2022-02-11T08:19:44.315013Z"
    },
    "papermill": {
     "duration": 0.040173,
     "end_time": "2022-02-20T16:18:39.138124",
     "exception": false,
     "start_time": "2022-02-20T16:18:39.097951",
     "status": "completed"
    },
    "tags": []
   },
   "outputs": [],
   "source": [
    "warnings.filterwarnings('ignore')"
   ]
  },
  {
   "cell_type": "code",
   "execution_count": 3,
   "id": "7544c302",
   "metadata": {
    "execution": {
     "iopub.execute_input": "2022-02-20T16:18:39.206464Z",
     "iopub.status.busy": "2022-02-20T16:18:39.205438Z",
     "iopub.status.idle": "2022-02-20T16:18:39.305410Z",
     "shell.execute_reply": "2022-02-20T16:18:39.306703Z",
     "shell.execute_reply.started": "2022-02-11T08:19:44.32726Z"
    },
    "papermill": {
     "duration": 0.136737,
     "end_time": "2022-02-20T16:18:39.306924",
     "exception": false,
     "start_time": "2022-02-20T16:18:39.170187",
     "status": "completed"
    },
    "tags": []
   },
   "outputs": [],
   "source": [
    "data = pd.read_csv(\"../input/movielens-100k-dataset/ml-100k/u.data\",sep=\"\\t\",names=[\"user_id\",\"item_id\",\"rating\",\"timestamp\"])"
   ]
  },
  {
   "cell_type": "code",
   "execution_count": 4,
   "id": "1cf23775",
   "metadata": {
    "execution": {
     "iopub.execute_input": "2022-02-20T16:18:39.375459Z",
     "iopub.status.busy": "2022-02-20T16:18:39.374441Z",
     "iopub.status.idle": "2022-02-20T16:18:39.391937Z",
     "shell.execute_reply": "2022-02-20T16:18:39.392438Z",
     "shell.execute_reply.started": "2022-02-11T08:19:44.392008Z"
    },
    "papermill": {
     "duration": 0.053237,
     "end_time": "2022-02-20T16:18:39.392645",
     "exception": false,
     "start_time": "2022-02-20T16:18:39.339408",
     "status": "completed"
    },
    "tags": []
   },
   "outputs": [
    {
     "data": {
      "text/plain": [
       "943"
      ]
     },
     "execution_count": 4,
     "metadata": {},
     "output_type": "execute_result"
    }
   ],
   "source": [
    "data[\"user_id\"].nunique()"
   ]
  },
  {
   "cell_type": "code",
   "execution_count": 5,
   "id": "966c4364",
   "metadata": {
    "execution": {
     "iopub.execute_input": "2022-02-20T16:18:39.462002Z",
     "iopub.status.busy": "2022-02-20T16:18:39.461060Z",
     "iopub.status.idle": "2022-02-20T16:18:39.469957Z",
     "shell.execute_reply": "2022-02-20T16:18:39.469373Z",
     "shell.execute_reply.started": "2022-02-11T08:19:44.401107Z"
    },
    "papermill": {
     "duration": 0.044919,
     "end_time": "2022-02-20T16:18:39.470116",
     "exception": false,
     "start_time": "2022-02-20T16:18:39.425197",
     "status": "completed"
    },
    "tags": []
   },
   "outputs": [
    {
     "data": {
      "text/plain": [
       "1682"
      ]
     },
     "execution_count": 5,
     "metadata": {},
     "output_type": "execute_result"
    }
   ],
   "source": [
    "data[\"item_id\"].nunique()"
   ]
  },
  {
   "cell_type": "code",
   "execution_count": 6,
   "id": "07ac4c1a",
   "metadata": {
    "execution": {
     "iopub.execute_input": "2022-02-20T16:18:39.538149Z",
     "iopub.status.busy": "2022-02-20T16:18:39.537526Z",
     "iopub.status.idle": "2022-02-20T16:18:39.605334Z",
     "shell.execute_reply": "2022-02-20T16:18:39.604753Z",
     "shell.execute_reply.started": "2022-02-11T08:19:44.413595Z"
    },
    "papermill": {
     "duration": 0.103049,
     "end_time": "2022-02-20T16:18:39.605475",
     "exception": false,
     "start_time": "2022-02-20T16:18:39.502426",
     "status": "completed"
    },
    "tags": []
   },
   "outputs": [],
   "source": [
    "movie_titles=pd.read_csv(\"../input/movielens-100k-dataset/ml-100k/u.item\",encoding='latin-1',sep=\"\\|\",header=None)"
   ]
  },
  {
   "cell_type": "code",
   "execution_count": 7,
   "id": "4dbfea47",
   "metadata": {
    "execution": {
     "iopub.execute_input": "2022-02-20T16:18:39.684684Z",
     "iopub.status.busy": "2022-02-20T16:18:39.683931Z",
     "iopub.status.idle": "2022-02-20T16:18:39.710788Z",
     "shell.execute_reply": "2022-02-20T16:18:39.710157Z",
     "shell.execute_reply.started": "2022-02-11T08:19:44.477062Z"
    },
    "papermill": {
     "duration": 0.07338,
     "end_time": "2022-02-20T16:18:39.710940",
     "exception": false,
     "start_time": "2022-02-20T16:18:39.637560",
     "status": "completed"
    },
    "tags": []
   },
   "outputs": [
    {
     "data": {
      "text/html": [
       "<div>\n",
       "<style scoped>\n",
       "    .dataframe tbody tr th:only-of-type {\n",
       "        vertical-align: middle;\n",
       "    }\n",
       "\n",
       "    .dataframe tbody tr th {\n",
       "        vertical-align: top;\n",
       "    }\n",
       "\n",
       "    .dataframe thead th {\n",
       "        text-align: right;\n",
       "    }\n",
       "</style>\n",
       "<table border=\"1\" class=\"dataframe\">\n",
       "  <thead>\n",
       "    <tr style=\"text-align: right;\">\n",
       "      <th></th>\n",
       "      <th>0</th>\n",
       "      <th>1</th>\n",
       "      <th>2</th>\n",
       "      <th>3</th>\n",
       "      <th>4</th>\n",
       "      <th>5</th>\n",
       "      <th>6</th>\n",
       "      <th>7</th>\n",
       "      <th>8</th>\n",
       "      <th>9</th>\n",
       "      <th>...</th>\n",
       "      <th>14</th>\n",
       "      <th>15</th>\n",
       "      <th>16</th>\n",
       "      <th>17</th>\n",
       "      <th>18</th>\n",
       "      <th>19</th>\n",
       "      <th>20</th>\n",
       "      <th>21</th>\n",
       "      <th>22</th>\n",
       "      <th>23</th>\n",
       "    </tr>\n",
       "  </thead>\n",
       "  <tbody>\n",
       "    <tr>\n",
       "      <th>0</th>\n",
       "      <td>1</td>\n",
       "      <td>Toy Story (1995)</td>\n",
       "      <td>01-Jan-1995</td>\n",
       "      <td>NaN</td>\n",
       "      <td>http://us.imdb.com/M/title-exact?Toy%20Story%2...</td>\n",
       "      <td>0</td>\n",
       "      <td>0</td>\n",
       "      <td>0</td>\n",
       "      <td>1</td>\n",
       "      <td>1</td>\n",
       "      <td>...</td>\n",
       "      <td>0</td>\n",
       "      <td>0</td>\n",
       "      <td>0</td>\n",
       "      <td>0</td>\n",
       "      <td>0</td>\n",
       "      <td>0</td>\n",
       "      <td>0</td>\n",
       "      <td>0</td>\n",
       "      <td>0</td>\n",
       "      <td>0</td>\n",
       "    </tr>\n",
       "    <tr>\n",
       "      <th>1</th>\n",
       "      <td>2</td>\n",
       "      <td>GoldenEye (1995)</td>\n",
       "      <td>01-Jan-1995</td>\n",
       "      <td>NaN</td>\n",
       "      <td>http://us.imdb.com/M/title-exact?GoldenEye%20(...</td>\n",
       "      <td>0</td>\n",
       "      <td>1</td>\n",
       "      <td>1</td>\n",
       "      <td>0</td>\n",
       "      <td>0</td>\n",
       "      <td>...</td>\n",
       "      <td>0</td>\n",
       "      <td>0</td>\n",
       "      <td>0</td>\n",
       "      <td>0</td>\n",
       "      <td>0</td>\n",
       "      <td>0</td>\n",
       "      <td>0</td>\n",
       "      <td>1</td>\n",
       "      <td>0</td>\n",
       "      <td>0</td>\n",
       "    </tr>\n",
       "    <tr>\n",
       "      <th>2</th>\n",
       "      <td>3</td>\n",
       "      <td>Four Rooms (1995)</td>\n",
       "      <td>01-Jan-1995</td>\n",
       "      <td>NaN</td>\n",
       "      <td>http://us.imdb.com/M/title-exact?Four%20Rooms%...</td>\n",
       "      <td>0</td>\n",
       "      <td>0</td>\n",
       "      <td>0</td>\n",
       "      <td>0</td>\n",
       "      <td>0</td>\n",
       "      <td>...</td>\n",
       "      <td>0</td>\n",
       "      <td>0</td>\n",
       "      <td>0</td>\n",
       "      <td>0</td>\n",
       "      <td>0</td>\n",
       "      <td>0</td>\n",
       "      <td>0</td>\n",
       "      <td>1</td>\n",
       "      <td>0</td>\n",
       "      <td>0</td>\n",
       "    </tr>\n",
       "    <tr>\n",
       "      <th>3</th>\n",
       "      <td>4</td>\n",
       "      <td>Get Shorty (1995)</td>\n",
       "      <td>01-Jan-1995</td>\n",
       "      <td>NaN</td>\n",
       "      <td>http://us.imdb.com/M/title-exact?Get%20Shorty%...</td>\n",
       "      <td>0</td>\n",
       "      <td>1</td>\n",
       "      <td>0</td>\n",
       "      <td>0</td>\n",
       "      <td>0</td>\n",
       "      <td>...</td>\n",
       "      <td>0</td>\n",
       "      <td>0</td>\n",
       "      <td>0</td>\n",
       "      <td>0</td>\n",
       "      <td>0</td>\n",
       "      <td>0</td>\n",
       "      <td>0</td>\n",
       "      <td>0</td>\n",
       "      <td>0</td>\n",
       "      <td>0</td>\n",
       "    </tr>\n",
       "    <tr>\n",
       "      <th>4</th>\n",
       "      <td>5</td>\n",
       "      <td>Copycat (1995)</td>\n",
       "      <td>01-Jan-1995</td>\n",
       "      <td>NaN</td>\n",
       "      <td>http://us.imdb.com/M/title-exact?Copycat%20(1995)</td>\n",
       "      <td>0</td>\n",
       "      <td>0</td>\n",
       "      <td>0</td>\n",
       "      <td>0</td>\n",
       "      <td>0</td>\n",
       "      <td>...</td>\n",
       "      <td>0</td>\n",
       "      <td>0</td>\n",
       "      <td>0</td>\n",
       "      <td>0</td>\n",
       "      <td>0</td>\n",
       "      <td>0</td>\n",
       "      <td>0</td>\n",
       "      <td>1</td>\n",
       "      <td>0</td>\n",
       "      <td>0</td>\n",
       "    </tr>\n",
       "    <tr>\n",
       "      <th>...</th>\n",
       "      <td>...</td>\n",
       "      <td>...</td>\n",
       "      <td>...</td>\n",
       "      <td>...</td>\n",
       "      <td>...</td>\n",
       "      <td>...</td>\n",
       "      <td>...</td>\n",
       "      <td>...</td>\n",
       "      <td>...</td>\n",
       "      <td>...</td>\n",
       "      <td>...</td>\n",
       "      <td>...</td>\n",
       "      <td>...</td>\n",
       "      <td>...</td>\n",
       "      <td>...</td>\n",
       "      <td>...</td>\n",
       "      <td>...</td>\n",
       "      <td>...</td>\n",
       "      <td>...</td>\n",
       "      <td>...</td>\n",
       "      <td>...</td>\n",
       "    </tr>\n",
       "    <tr>\n",
       "      <th>1677</th>\n",
       "      <td>1678</td>\n",
       "      <td>Mat' i syn (1997)</td>\n",
       "      <td>06-Feb-1998</td>\n",
       "      <td>NaN</td>\n",
       "      <td>http://us.imdb.com/M/title-exact?Mat%27+i+syn+...</td>\n",
       "      <td>0</td>\n",
       "      <td>0</td>\n",
       "      <td>0</td>\n",
       "      <td>0</td>\n",
       "      <td>0</td>\n",
       "      <td>...</td>\n",
       "      <td>0</td>\n",
       "      <td>0</td>\n",
       "      <td>0</td>\n",
       "      <td>0</td>\n",
       "      <td>0</td>\n",
       "      <td>0</td>\n",
       "      <td>0</td>\n",
       "      <td>0</td>\n",
       "      <td>0</td>\n",
       "      <td>0</td>\n",
       "    </tr>\n",
       "    <tr>\n",
       "      <th>1678</th>\n",
       "      <td>1679</td>\n",
       "      <td>B. Monkey (1998)</td>\n",
       "      <td>06-Feb-1998</td>\n",
       "      <td>NaN</td>\n",
       "      <td>http://us.imdb.com/M/title-exact?B%2E+Monkey+(...</td>\n",
       "      <td>0</td>\n",
       "      <td>0</td>\n",
       "      <td>0</td>\n",
       "      <td>0</td>\n",
       "      <td>0</td>\n",
       "      <td>...</td>\n",
       "      <td>0</td>\n",
       "      <td>0</td>\n",
       "      <td>0</td>\n",
       "      <td>0</td>\n",
       "      <td>0</td>\n",
       "      <td>1</td>\n",
       "      <td>0</td>\n",
       "      <td>1</td>\n",
       "      <td>0</td>\n",
       "      <td>0</td>\n",
       "    </tr>\n",
       "    <tr>\n",
       "      <th>1679</th>\n",
       "      <td>1680</td>\n",
       "      <td>Sliding Doors (1998)</td>\n",
       "      <td>01-Jan-1998</td>\n",
       "      <td>NaN</td>\n",
       "      <td>http://us.imdb.com/Title?Sliding+Doors+(1998)</td>\n",
       "      <td>0</td>\n",
       "      <td>0</td>\n",
       "      <td>0</td>\n",
       "      <td>0</td>\n",
       "      <td>0</td>\n",
       "      <td>...</td>\n",
       "      <td>0</td>\n",
       "      <td>0</td>\n",
       "      <td>0</td>\n",
       "      <td>0</td>\n",
       "      <td>0</td>\n",
       "      <td>1</td>\n",
       "      <td>0</td>\n",
       "      <td>0</td>\n",
       "      <td>0</td>\n",
       "      <td>0</td>\n",
       "    </tr>\n",
       "    <tr>\n",
       "      <th>1680</th>\n",
       "      <td>1681</td>\n",
       "      <td>You So Crazy (1994)</td>\n",
       "      <td>01-Jan-1994</td>\n",
       "      <td>NaN</td>\n",
       "      <td>http://us.imdb.com/M/title-exact?You%20So%20Cr...</td>\n",
       "      <td>0</td>\n",
       "      <td>0</td>\n",
       "      <td>0</td>\n",
       "      <td>0</td>\n",
       "      <td>0</td>\n",
       "      <td>...</td>\n",
       "      <td>0</td>\n",
       "      <td>0</td>\n",
       "      <td>0</td>\n",
       "      <td>0</td>\n",
       "      <td>0</td>\n",
       "      <td>0</td>\n",
       "      <td>0</td>\n",
       "      <td>0</td>\n",
       "      <td>0</td>\n",
       "      <td>0</td>\n",
       "    </tr>\n",
       "    <tr>\n",
       "      <th>1681</th>\n",
       "      <td>1682</td>\n",
       "      <td>Scream of Stone (Schrei aus Stein) (1991)</td>\n",
       "      <td>08-Mar-1996</td>\n",
       "      <td>NaN</td>\n",
       "      <td>http://us.imdb.com/M/title-exact?Schrei%20aus%...</td>\n",
       "      <td>0</td>\n",
       "      <td>0</td>\n",
       "      <td>0</td>\n",
       "      <td>0</td>\n",
       "      <td>0</td>\n",
       "      <td>...</td>\n",
       "      <td>0</td>\n",
       "      <td>0</td>\n",
       "      <td>0</td>\n",
       "      <td>0</td>\n",
       "      <td>0</td>\n",
       "      <td>0</td>\n",
       "      <td>0</td>\n",
       "      <td>0</td>\n",
       "      <td>0</td>\n",
       "      <td>0</td>\n",
       "    </tr>\n",
       "  </tbody>\n",
       "</table>\n",
       "<p>1682 rows × 24 columns</p>\n",
       "</div>"
      ],
      "text/plain": [
       "        0                                          1            2   3   \\\n",
       "0        1                           Toy Story (1995)  01-Jan-1995 NaN   \n",
       "1        2                           GoldenEye (1995)  01-Jan-1995 NaN   \n",
       "2        3                          Four Rooms (1995)  01-Jan-1995 NaN   \n",
       "3        4                          Get Shorty (1995)  01-Jan-1995 NaN   \n",
       "4        5                             Copycat (1995)  01-Jan-1995 NaN   \n",
       "...    ...                                        ...          ...  ..   \n",
       "1677  1678                          Mat' i syn (1997)  06-Feb-1998 NaN   \n",
       "1678  1679                           B. Monkey (1998)  06-Feb-1998 NaN   \n",
       "1679  1680                       Sliding Doors (1998)  01-Jan-1998 NaN   \n",
       "1680  1681                        You So Crazy (1994)  01-Jan-1994 NaN   \n",
       "1681  1682  Scream of Stone (Schrei aus Stein) (1991)  08-Mar-1996 NaN   \n",
       "\n",
       "                                                     4   5   6   7   8   9   \\\n",
       "0     http://us.imdb.com/M/title-exact?Toy%20Story%2...   0   0   0   1   1   \n",
       "1     http://us.imdb.com/M/title-exact?GoldenEye%20(...   0   1   1   0   0   \n",
       "2     http://us.imdb.com/M/title-exact?Four%20Rooms%...   0   0   0   0   0   \n",
       "3     http://us.imdb.com/M/title-exact?Get%20Shorty%...   0   1   0   0   0   \n",
       "4     http://us.imdb.com/M/title-exact?Copycat%20(1995)   0   0   0   0   0   \n",
       "...                                                 ...  ..  ..  ..  ..  ..   \n",
       "1677  http://us.imdb.com/M/title-exact?Mat%27+i+syn+...   0   0   0   0   0   \n",
       "1678  http://us.imdb.com/M/title-exact?B%2E+Monkey+(...   0   0   0   0   0   \n",
       "1679      http://us.imdb.com/Title?Sliding+Doors+(1998)   0   0   0   0   0   \n",
       "1680  http://us.imdb.com/M/title-exact?You%20So%20Cr...   0   0   0   0   0   \n",
       "1681  http://us.imdb.com/M/title-exact?Schrei%20aus%...   0   0   0   0   0   \n",
       "\n",
       "      ...  14  15  16  17  18  19  20  21  22  23  \n",
       "0     ...   0   0   0   0   0   0   0   0   0   0  \n",
       "1     ...   0   0   0   0   0   0   0   1   0   0  \n",
       "2     ...   0   0   0   0   0   0   0   1   0   0  \n",
       "3     ...   0   0   0   0   0   0   0   0   0   0  \n",
       "4     ...   0   0   0   0   0   0   0   1   0   0  \n",
       "...   ...  ..  ..  ..  ..  ..  ..  ..  ..  ..  ..  \n",
       "1677  ...   0   0   0   0   0   0   0   0   0   0  \n",
       "1678  ...   0   0   0   0   0   1   0   1   0   0  \n",
       "1679  ...   0   0   0   0   0   1   0   0   0   0  \n",
       "1680  ...   0   0   0   0   0   0   0   0   0   0  \n",
       "1681  ...   0   0   0   0   0   0   0   0   0   0  \n",
       "\n",
       "[1682 rows x 24 columns]"
      ]
     },
     "execution_count": 7,
     "metadata": {},
     "output_type": "execute_result"
    }
   ],
   "source": [
    "movie_titles"
   ]
  },
  {
   "cell_type": "code",
   "execution_count": 8,
   "id": "a072b02f",
   "metadata": {
    "execution": {
     "iopub.execute_input": "2022-02-20T16:18:39.787204Z",
     "iopub.status.busy": "2022-02-20T16:18:39.786164Z",
     "iopub.status.idle": "2022-02-20T16:18:39.797145Z",
     "shell.execute_reply": "2022-02-20T16:18:39.796499Z",
     "shell.execute_reply.started": "2022-02-11T08:19:44.515746Z"
    },
    "papermill": {
     "duration": 0.050554,
     "end_time": "2022-02-20T16:18:39.797297",
     "exception": false,
     "start_time": "2022-02-20T16:18:39.746743",
     "status": "completed"
    },
    "tags": []
   },
   "outputs": [
    {
     "data": {
      "text/html": [
       "<div>\n",
       "<style scoped>\n",
       "    .dataframe tbody tr th:only-of-type {\n",
       "        vertical-align: middle;\n",
       "    }\n",
       "\n",
       "    .dataframe tbody tr th {\n",
       "        vertical-align: top;\n",
       "    }\n",
       "\n",
       "    .dataframe thead th {\n",
       "        text-align: right;\n",
       "    }\n",
       "</style>\n",
       "<table border=\"1\" class=\"dataframe\">\n",
       "  <thead>\n",
       "    <tr style=\"text-align: right;\">\n",
       "      <th></th>\n",
       "      <th>0</th>\n",
       "      <th>1</th>\n",
       "    </tr>\n",
       "  </thead>\n",
       "  <tbody>\n",
       "    <tr>\n",
       "      <th>0</th>\n",
       "      <td>1</td>\n",
       "      <td>Toy Story (1995)</td>\n",
       "    </tr>\n",
       "    <tr>\n",
       "      <th>1</th>\n",
       "      <td>2</td>\n",
       "      <td>GoldenEye (1995)</td>\n",
       "    </tr>\n",
       "    <tr>\n",
       "      <th>2</th>\n",
       "      <td>3</td>\n",
       "      <td>Four Rooms (1995)</td>\n",
       "    </tr>\n",
       "    <tr>\n",
       "      <th>3</th>\n",
       "      <td>4</td>\n",
       "      <td>Get Shorty (1995)</td>\n",
       "    </tr>\n",
       "    <tr>\n",
       "      <th>4</th>\n",
       "      <td>5</td>\n",
       "      <td>Copycat (1995)</td>\n",
       "    </tr>\n",
       "    <tr>\n",
       "      <th>...</th>\n",
       "      <td>...</td>\n",
       "      <td>...</td>\n",
       "    </tr>\n",
       "    <tr>\n",
       "      <th>1677</th>\n",
       "      <td>1678</td>\n",
       "      <td>Mat' i syn (1997)</td>\n",
       "    </tr>\n",
       "    <tr>\n",
       "      <th>1678</th>\n",
       "      <td>1679</td>\n",
       "      <td>B. Monkey (1998)</td>\n",
       "    </tr>\n",
       "    <tr>\n",
       "      <th>1679</th>\n",
       "      <td>1680</td>\n",
       "      <td>Sliding Doors (1998)</td>\n",
       "    </tr>\n",
       "    <tr>\n",
       "      <th>1680</th>\n",
       "      <td>1681</td>\n",
       "      <td>You So Crazy (1994)</td>\n",
       "    </tr>\n",
       "    <tr>\n",
       "      <th>1681</th>\n",
       "      <td>1682</td>\n",
       "      <td>Scream of Stone (Schrei aus Stein) (1991)</td>\n",
       "    </tr>\n",
       "  </tbody>\n",
       "</table>\n",
       "<p>1682 rows × 2 columns</p>\n",
       "</div>"
      ],
      "text/plain": [
       "         0                                          1\n",
       "0        1                           Toy Story (1995)\n",
       "1        2                           GoldenEye (1995)\n",
       "2        3                          Four Rooms (1995)\n",
       "3        4                          Get Shorty (1995)\n",
       "4        5                             Copycat (1995)\n",
       "...    ...                                        ...\n",
       "1677  1678                          Mat' i syn (1997)\n",
       "1678  1679                           B. Monkey (1998)\n",
       "1679  1680                       Sliding Doors (1998)\n",
       "1680  1681                        You So Crazy (1994)\n",
       "1681  1682  Scream of Stone (Schrei aus Stein) (1991)\n",
       "\n",
       "[1682 rows x 2 columns]"
      ]
     },
     "execution_count": 8,
     "metadata": {},
     "output_type": "execute_result"
    }
   ],
   "source": [
    "movie_titles=movie_titles[[0,1]]\n",
    "movie_titles"
   ]
  },
  {
   "cell_type": "code",
   "execution_count": 9,
   "id": "4d0b0726",
   "metadata": {
    "execution": {
     "iopub.execute_input": "2022-02-20T16:18:39.873108Z",
     "iopub.status.busy": "2022-02-20T16:18:39.872391Z",
     "iopub.status.idle": "2022-02-20T16:18:39.874762Z",
     "shell.execute_reply": "2022-02-20T16:18:39.874093Z",
     "shell.execute_reply.started": "2022-02-11T08:19:44.532295Z"
    },
    "papermill": {
     "duration": 0.042199,
     "end_time": "2022-02-20T16:18:39.874925",
     "exception": false,
     "start_time": "2022-02-20T16:18:39.832726",
     "status": "completed"
    },
    "tags": []
   },
   "outputs": [],
   "source": [
    "movie_titles.columns=[\"item_id\",\"title\"]"
   ]
  },
  {
   "cell_type": "code",
   "execution_count": 10,
   "id": "5a346fe1",
   "metadata": {
    "execution": {
     "iopub.execute_input": "2022-02-20T16:18:39.952930Z",
     "iopub.status.busy": "2022-02-20T16:18:39.952281Z",
     "iopub.status.idle": "2022-02-20T16:18:39.954891Z",
     "shell.execute_reply": "2022-02-20T16:18:39.955385Z",
     "shell.execute_reply.started": "2022-02-11T08:19:44.544355Z"
    },
    "papermill": {
     "duration": 0.046142,
     "end_time": "2022-02-20T16:18:39.955563",
     "exception": false,
     "start_time": "2022-02-20T16:18:39.909421",
     "status": "completed"
    },
    "tags": []
   },
   "outputs": [
    {
     "data": {
      "text/html": [
       "<div>\n",
       "<style scoped>\n",
       "    .dataframe tbody tr th:only-of-type {\n",
       "        vertical-align: middle;\n",
       "    }\n",
       "\n",
       "    .dataframe tbody tr th {\n",
       "        vertical-align: top;\n",
       "    }\n",
       "\n",
       "    .dataframe thead th {\n",
       "        text-align: right;\n",
       "    }\n",
       "</style>\n",
       "<table border=\"1\" class=\"dataframe\">\n",
       "  <thead>\n",
       "    <tr style=\"text-align: right;\">\n",
       "      <th></th>\n",
       "      <th>item_id</th>\n",
       "      <th>title</th>\n",
       "    </tr>\n",
       "  </thead>\n",
       "  <tbody>\n",
       "    <tr>\n",
       "      <th>0</th>\n",
       "      <td>1</td>\n",
       "      <td>Toy Story (1995)</td>\n",
       "    </tr>\n",
       "    <tr>\n",
       "      <th>1</th>\n",
       "      <td>2</td>\n",
       "      <td>GoldenEye (1995)</td>\n",
       "    </tr>\n",
       "    <tr>\n",
       "      <th>2</th>\n",
       "      <td>3</td>\n",
       "      <td>Four Rooms (1995)</td>\n",
       "    </tr>\n",
       "    <tr>\n",
       "      <th>3</th>\n",
       "      <td>4</td>\n",
       "      <td>Get Shorty (1995)</td>\n",
       "    </tr>\n",
       "    <tr>\n",
       "      <th>4</th>\n",
       "      <td>5</td>\n",
       "      <td>Copycat (1995)</td>\n",
       "    </tr>\n",
       "  </tbody>\n",
       "</table>\n",
       "</div>"
      ],
      "text/plain": [
       "   item_id              title\n",
       "0        1   Toy Story (1995)\n",
       "1        2   GoldenEye (1995)\n",
       "2        3  Four Rooms (1995)\n",
       "3        4  Get Shorty (1995)\n",
       "4        5     Copycat (1995)"
      ]
     },
     "execution_count": 10,
     "metadata": {},
     "output_type": "execute_result"
    }
   ],
   "source": [
    "movie_titles.head()"
   ]
  },
  {
   "cell_type": "code",
   "execution_count": 11,
   "id": "4b513819",
   "metadata": {
    "execution": {
     "iopub.execute_input": "2022-02-20T16:18:40.031883Z",
     "iopub.status.busy": "2022-02-20T16:18:40.031099Z",
     "iopub.status.idle": "2022-02-20T16:18:40.049873Z",
     "shell.execute_reply": "2022-02-20T16:18:40.050404Z",
     "shell.execute_reply.started": "2022-02-11T08:19:44.571125Z"
    },
    "papermill": {
     "duration": 0.060503,
     "end_time": "2022-02-20T16:18:40.050624",
     "exception": false,
     "start_time": "2022-02-20T16:18:39.990121",
     "status": "completed"
    },
    "tags": []
   },
   "outputs": [],
   "source": [
    "df=pd.merge(data,movie_titles,on=\"item_id\")"
   ]
  },
  {
   "cell_type": "code",
   "execution_count": 12,
   "id": "93040288",
   "metadata": {
    "execution": {
     "iopub.execute_input": "2022-02-20T16:18:40.131006Z",
     "iopub.status.busy": "2022-02-20T16:18:40.130318Z",
     "iopub.status.idle": "2022-02-20T16:18:40.133955Z",
     "shell.execute_reply": "2022-02-20T16:18:40.133321Z",
     "shell.execute_reply.started": "2022-02-11T08:19:44.598124Z"
    },
    "papermill": {
     "duration": 0.048589,
     "end_time": "2022-02-20T16:18:40.134131",
     "exception": false,
     "start_time": "2022-02-20T16:18:40.085542",
     "status": "completed"
    },
    "tags": []
   },
   "outputs": [
    {
     "data": {
      "text/html": [
       "<div>\n",
       "<style scoped>\n",
       "    .dataframe tbody tr th:only-of-type {\n",
       "        vertical-align: middle;\n",
       "    }\n",
       "\n",
       "    .dataframe tbody tr th {\n",
       "        vertical-align: top;\n",
       "    }\n",
       "\n",
       "    .dataframe thead th {\n",
       "        text-align: right;\n",
       "    }\n",
       "</style>\n",
       "<table border=\"1\" class=\"dataframe\">\n",
       "  <thead>\n",
       "    <tr style=\"text-align: right;\">\n",
       "      <th></th>\n",
       "      <th>user_id</th>\n",
       "      <th>item_id</th>\n",
       "      <th>rating</th>\n",
       "      <th>timestamp</th>\n",
       "      <th>title</th>\n",
       "    </tr>\n",
       "  </thead>\n",
       "  <tbody>\n",
       "    <tr>\n",
       "      <th>0</th>\n",
       "      <td>196</td>\n",
       "      <td>242</td>\n",
       "      <td>3</td>\n",
       "      <td>881250949</td>\n",
       "      <td>Kolya (1996)</td>\n",
       "    </tr>\n",
       "    <tr>\n",
       "      <th>1</th>\n",
       "      <td>63</td>\n",
       "      <td>242</td>\n",
       "      <td>3</td>\n",
       "      <td>875747190</td>\n",
       "      <td>Kolya (1996)</td>\n",
       "    </tr>\n",
       "    <tr>\n",
       "      <th>2</th>\n",
       "      <td>226</td>\n",
       "      <td>242</td>\n",
       "      <td>5</td>\n",
       "      <td>883888671</td>\n",
       "      <td>Kolya (1996)</td>\n",
       "    </tr>\n",
       "    <tr>\n",
       "      <th>3</th>\n",
       "      <td>154</td>\n",
       "      <td>242</td>\n",
       "      <td>3</td>\n",
       "      <td>879138235</td>\n",
       "      <td>Kolya (1996)</td>\n",
       "    </tr>\n",
       "    <tr>\n",
       "      <th>4</th>\n",
       "      <td>306</td>\n",
       "      <td>242</td>\n",
       "      <td>5</td>\n",
       "      <td>876503793</td>\n",
       "      <td>Kolya (1996)</td>\n",
       "    </tr>\n",
       "  </tbody>\n",
       "</table>\n",
       "</div>"
      ],
      "text/plain": [
       "   user_id  item_id  rating  timestamp         title\n",
       "0      196      242       3  881250949  Kolya (1996)\n",
       "1       63      242       3  875747190  Kolya (1996)\n",
       "2      226      242       5  883888671  Kolya (1996)\n",
       "3      154      242       3  879138235  Kolya (1996)\n",
       "4      306      242       5  876503793  Kolya (1996)"
      ]
     },
     "execution_count": 12,
     "metadata": {},
     "output_type": "execute_result"
    }
   ],
   "source": [
    "df.head()"
   ]
  },
  {
   "cell_type": "code",
   "execution_count": 13,
   "id": "394d54f2",
   "metadata": {
    "execution": {
     "iopub.execute_input": "2022-02-20T16:18:40.213056Z",
     "iopub.status.busy": "2022-02-20T16:18:40.212385Z",
     "iopub.status.idle": "2022-02-20T16:18:40.233802Z",
     "shell.execute_reply": "2022-02-20T16:18:40.233275Z",
     "shell.execute_reply.started": "2022-02-11T08:19:44.616295Z"
    },
    "papermill": {
     "duration": 0.064013,
     "end_time": "2022-02-20T16:18:40.233956",
     "exception": false,
     "start_time": "2022-02-20T16:18:40.169943",
     "status": "completed"
    },
    "tags": []
   },
   "outputs": [
    {
     "data": {
      "text/plain": [
       "title\n",
       "They Made Me a Criminal (1939)                  5.0\n",
       "Marlene Dietrich: Shadow and Light (1996)       5.0\n",
       "Saint of Fort Washington, The (1993)            5.0\n",
       "Someone Else's America (1995)                   5.0\n",
       "Star Kid (1997)                                 5.0\n",
       "                                               ... \n",
       "Eye of Vichy, The (Oeil de Vichy, L') (1993)    1.0\n",
       "King of New York (1990)                         1.0\n",
       "Touki Bouki (Journey of the Hyena) (1973)       1.0\n",
       "Bloody Child, The (1996)                        1.0\n",
       "Crude Oasis, The (1995)                         1.0\n",
       "Name: rating, Length: 1664, dtype: float64"
      ]
     },
     "execution_count": 13,
     "metadata": {},
     "output_type": "execute_result"
    }
   ],
   "source": [
    "df.groupby(\"title\")[\"rating\"].mean().sort_values(ascending=False)"
   ]
  },
  {
   "cell_type": "code",
   "execution_count": 14,
   "id": "fc8efd39",
   "metadata": {
    "execution": {
     "iopub.execute_input": "2022-02-20T16:18:40.316562Z",
     "iopub.status.busy": "2022-02-20T16:18:40.315933Z",
     "iopub.status.idle": "2022-02-20T16:18:40.325893Z",
     "shell.execute_reply": "2022-02-20T16:18:40.326408Z",
     "shell.execute_reply.started": "2022-02-11T08:19:44.648202Z"
    },
    "papermill": {
     "duration": 0.056799,
     "end_time": "2022-02-20T16:18:40.326596",
     "exception": false,
     "start_time": "2022-02-20T16:18:40.269797",
     "status": "completed"
    },
    "tags": []
   },
   "outputs": [],
   "source": [
    "ratings=pd.DataFrame(df.groupby(\"title\")[\"rating\"].mean())"
   ]
  },
  {
   "cell_type": "code",
   "execution_count": 15,
   "id": "6631855f",
   "metadata": {
    "execution": {
     "iopub.execute_input": "2022-02-20T16:18:40.401297Z",
     "iopub.status.busy": "2022-02-20T16:18:40.400708Z",
     "iopub.status.idle": "2022-02-20T16:18:40.420218Z",
     "shell.execute_reply": "2022-02-20T16:18:40.420734Z",
     "shell.execute_reply.started": "2022-02-11T08:19:44.671177Z"
    },
    "papermill": {
     "duration": 0.058051,
     "end_time": "2022-02-20T16:18:40.420900",
     "exception": false,
     "start_time": "2022-02-20T16:18:40.362849",
     "status": "completed"
    },
    "tags": []
   },
   "outputs": [],
   "source": [
    "ratings[\"no_of_ratings\"]=pd.DataFrame(df.groupby(\"title\")[\"rating\"].count())"
   ]
  },
  {
   "cell_type": "code",
   "execution_count": 16,
   "id": "9262b9a9",
   "metadata": {
    "execution": {
     "iopub.execute_input": "2022-02-20T16:18:40.502638Z",
     "iopub.status.busy": "2022-02-20T16:18:40.501670Z",
     "iopub.status.idle": "2022-02-20T16:18:40.832402Z",
     "shell.execute_reply": "2022-02-20T16:18:40.832953Z",
     "shell.execute_reply.started": "2022-02-11T08:19:53.948126Z"
    },
    "papermill": {
     "duration": 0.377188,
     "end_time": "2022-02-20T16:18:40.833165",
     "exception": false,
     "start_time": "2022-02-20T16:18:40.455977",
     "status": "completed"
    },
    "tags": []
   },
   "outputs": [
    {
     "data": {
      "image/png": "[encoded data removed]",
      "text/plain": [
       "<Figure size 720x720 with 1 Axes>"
      ]
     },
     "metadata": {
      "needs_background": "light"
     },
     "output_type": "display_data"
    }
   ],
   "source": [
    "plt.figure(figsize=(10,10))\n",
    "plt.hist(\"no_of_ratings\",data=ratings,bins=70)\n",
    "plt.show()"
   ]
  },
  {
   "cell_type": "code",
   "execution_count": 17,
   "id": "56149642",
   "metadata": {
    "execution": {
     "iopub.execute_input": "2022-02-20T16:18:40.933287Z",
     "iopub.status.busy": "2022-02-20T16:18:40.932631Z",
     "iopub.status.idle": "2022-02-20T16:18:41.185007Z",
     "shell.execute_reply": "2022-02-20T16:18:41.184484Z",
     "shell.execute_reply.started": "2022-02-11T08:19:54.771941Z"
    },
    "papermill": {
     "duration": 0.313321,
     "end_time": "2022-02-20T16:18:41.185161",
     "exception": false,
     "start_time": "2022-02-20T16:18:40.871840",
     "status": "completed"
    },
    "tags": []
   },
   "outputs": [
    {
     "data": {
      "image/png": "[encoded data removed]",
      "text/plain": [
       "<Figure size 432x288 with 1 Axes>"
      ]
     },
     "metadata": {
      "needs_background": "light"
     },
     "output_type": "display_data"
    }
   ],
   "source": [
    "plt.hist(\"rating\",data=ratings,bins=50)\n",
    "plt.show()"
   ]
  },
  {
   "cell_type": "code",
   "execution_count": 18,
   "id": "988eee71",
   "metadata": {
    "execution": {
     "iopub.execute_input": "2022-02-20T16:18:41.284233Z",
     "iopub.status.busy": "2022-02-20T16:18:41.282707Z",
     "iopub.status.idle": "2022-02-20T16:18:42.205562Z",
     "shell.execute_reply": "2022-02-20T16:18:42.206181Z",
     "shell.execute_reply.started": "2022-02-11T08:24:10.722337Z"
    },
    "papermill": {
     "duration": 0.983534,
     "end_time": "2022-02-20T16:18:42.206397",
     "exception": false,
     "start_time": "2022-02-20T16:18:41.222863",
     "status": "completed"
    },
    "tags": []
   },
   "outputs": [
    {
     "data": {
      "text/plain": [
       "<seaborn.axisgrid.JointGrid at 0x7f1283ce9bd0>"
      ]
     },
     "execution_count": 18,
     "metadata": {},
     "output_type": "execute_result"
    },
    {
     "data": {
      "image/png": "[encoded data removed]",
      "text/plain": [
       "<Figure size 360x360 with 3 Axes>"
      ]
     },
     "metadata": {
      "needs_background": "light"
     },
     "output_type": "display_data"
    }
   ],
   "source": [
    "sns.jointplot(y=\"no_of_ratings\",x=\"rating\",data=ratings,kind=\"reg\",height=5)"
   ]
  },
  {
   "cell_type": "code",
   "execution_count": 19,
   "id": "c23bb12d",
   "metadata": {
    "execution": {
     "iopub.execute_input": "2022-02-20T16:18:42.327425Z",
     "iopub.status.busy": "2022-02-20T16:18:42.326534Z",
     "iopub.status.idle": "2022-02-20T16:18:42.477022Z",
     "shell.execute_reply": "2022-02-20T16:18:42.476434Z",
     "shell.execute_reply.started": "2022-02-11T08:19:56.408835Z"
    },
    "papermill": {
     "duration": 0.217814,
     "end_time": "2022-02-20T16:18:42.477174",
     "exception": false,
     "start_time": "2022-02-20T16:18:42.259360",
     "status": "completed"
    },
    "tags": []
   },
   "outputs": [],
   "source": [
    "moviemat = df.pivot_table(index=\"user_id\",columns=\"title\",values=\"rating\")"
   ]
  },
  {
   "cell_type": "code",
   "execution_count": 20,
   "id": "6064dd00",
   "metadata": {
    "execution": {
     "iopub.execute_input": "2022-02-20T16:18:42.561297Z",
     "iopub.status.busy": "2022-02-20T16:18:42.560390Z",
     "iopub.status.idle": "2022-02-20T16:18:42.599019Z",
     "shell.execute_reply": "2022-02-20T16:18:42.599508Z",
     "shell.execute_reply.started": "2022-02-11T08:19:56.561413Z"
    },
    "papermill": {
     "duration": 0.081796,
     "end_time": "2022-02-20T16:18:42.599691",
     "exception": false,
     "start_time": "2022-02-20T16:18:42.517895",
     "status": "completed"
    },
    "tags": []
   },
   "outputs": [
    {
     "data": {
      "text/html": [
       "<div>\n",
       "<style scoped>\n",
       "    .dataframe tbody tr th:only-of-type {\n",
       "        vertical-align: middle;\n",
       "    }\n",
       "\n",
       "    .dataframe tbody tr th {\n",
       "        vertical-align: top;\n",
       "    }\n",
       "\n",
       "    .dataframe thead th {\n",
       "        text-align: right;\n",
       "    }\n",
       "</style>\n",
       "<table border=\"1\" class=\"dataframe\">\n",
       "  <thead>\n",
       "    <tr style=\"text-align: right;\">\n",
       "      <th>title</th>\n",
       "      <th>'Til There Was You (1997)</th>\n",
       "      <th>1-900 (1994)</th>\n",
       "      <th>101 Dalmatians (1996)</th>\n",
       "      <th>12 Angry Men (1957)</th>\n",
       "      <th>187 (1997)</th>\n",
       "      <th>2 Days in the Valley (1996)</th>\n",
       "      <th>20,000 Leagues Under the Sea (1954)</th>\n",
       "      <th>2001: A Space Odyssey (1968)</th>\n",
       "      <th>3 Ninjas: High Noon At Mega Mountain (1998)</th>\n",
       "      <th>39 Steps, The (1935)</th>\n",
       "      <th>...</th>\n",
       "      <th>Yankee Zulu (1994)</th>\n",
       "      <th>Year of the Horse (1997)</th>\n",
       "      <th>You So Crazy (1994)</th>\n",
       "      <th>Young Frankenstein (1974)</th>\n",
       "      <th>Young Guns (1988)</th>\n",
       "      <th>Young Guns II (1990)</th>\n",
       "      <th>Young Poisoner's Handbook, The (1995)</th>\n",
       "      <th>Zeus and Roxanne (1997)</th>\n",
       "      <th>unknown</th>\n",
       "      <th>Á köldum klaka (Cold Fever) (1994)</th>\n",
       "    </tr>\n",
       "    <tr>\n",
       "      <th>user_id</th>\n",
       "      <th></th>\n",
       "      <th></th>\n",
       "      <th></th>\n",
       "      <th></th>\n",
       "      <th></th>\n",
       "      <th></th>\n",
       "      <th></th>\n",
       "      <th></th>\n",
       "      <th></th>\n",
       "      <th></th>\n",
       "      <th></th>\n",
       "      <th></th>\n",
       "      <th></th>\n",
       "      <th></th>\n",
       "      <th></th>\n",
       "      <th></th>\n",
       "      <th></th>\n",
       "      <th></th>\n",
       "      <th></th>\n",
       "      <th></th>\n",
       "      <th></th>\n",
       "    </tr>\n",
       "  </thead>\n",
       "  <tbody>\n",
       "    <tr>\n",
       "      <th>1</th>\n",
       "      <td>NaN</td>\n",
       "      <td>NaN</td>\n",
       "      <td>2.0</td>\n",
       "      <td>5.0</td>\n",
       "      <td>NaN</td>\n",
       "      <td>NaN</td>\n",
       "      <td>3.0</td>\n",
       "      <td>4.0</td>\n",
       "      <td>NaN</td>\n",
       "      <td>NaN</td>\n",
       "      <td>...</td>\n",
       "      <td>NaN</td>\n",
       "      <td>NaN</td>\n",
       "      <td>NaN</td>\n",
       "      <td>5.0</td>\n",
       "      <td>3.0</td>\n",
       "      <td>NaN</td>\n",
       "      <td>NaN</td>\n",
       "      <td>NaN</td>\n",
       "      <td>4.0</td>\n",
       "      <td>NaN</td>\n",
       "    </tr>\n",
       "    <tr>\n",
       "      <th>2</th>\n",
       "      <td>NaN</td>\n",
       "      <td>NaN</td>\n",
       "      <td>NaN</td>\n",
       "      <td>NaN</td>\n",
       "      <td>NaN</td>\n",
       "      <td>NaN</td>\n",
       "      <td>NaN</td>\n",
       "      <td>NaN</td>\n",
       "      <td>1.0</td>\n",
       "      <td>NaN</td>\n",
       "      <td>...</td>\n",
       "      <td>NaN</td>\n",
       "      <td>NaN</td>\n",
       "      <td>NaN</td>\n",
       "      <td>NaN</td>\n",
       "      <td>NaN</td>\n",
       "      <td>NaN</td>\n",
       "      <td>NaN</td>\n",
       "      <td>NaN</td>\n",
       "      <td>NaN</td>\n",
       "      <td>NaN</td>\n",
       "    </tr>\n",
       "    <tr>\n",
       "      <th>3</th>\n",
       "      <td>NaN</td>\n",
       "      <td>NaN</td>\n",
       "      <td>NaN</td>\n",
       "      <td>NaN</td>\n",
       "      <td>2.0</td>\n",
       "      <td>NaN</td>\n",
       "      <td>NaN</td>\n",
       "      <td>NaN</td>\n",
       "      <td>NaN</td>\n",
       "      <td>NaN</td>\n",
       "      <td>...</td>\n",
       "      <td>NaN</td>\n",
       "      <td>NaN</td>\n",
       "      <td>NaN</td>\n",
       "      <td>NaN</td>\n",
       "      <td>NaN</td>\n",
       "      <td>NaN</td>\n",
       "      <td>NaN</td>\n",
       "      <td>NaN</td>\n",
       "      <td>NaN</td>\n",
       "      <td>NaN</td>\n",
       "    </tr>\n",
       "    <tr>\n",
       "      <th>4</th>\n",
       "      <td>NaN</td>\n",
       "      <td>NaN</td>\n",
       "      <td>NaN</td>\n",
       "      <td>NaN</td>\n",
       "      <td>NaN</td>\n",
       "      <td>NaN</td>\n",
       "      <td>NaN</td>\n",
       "      <td>NaN</td>\n",
       "      <td>NaN</td>\n",
       "      <td>NaN</td>\n",
       "      <td>...</td>\n",
       "      <td>NaN</td>\n",
       "      <td>NaN</td>\n",
       "      <td>NaN</td>\n",
       "      <td>NaN</td>\n",
       "      <td>NaN</td>\n",
       "      <td>NaN</td>\n",
       "      <td>NaN</td>\n",
       "      <td>NaN</td>\n",
       "      <td>NaN</td>\n",
       "      <td>NaN</td>\n",
       "    </tr>\n",
       "    <tr>\n",
       "      <th>5</th>\n",
       "      <td>NaN</td>\n",
       "      <td>NaN</td>\n",
       "      <td>2.0</td>\n",
       "      <td>NaN</td>\n",
       "      <td>NaN</td>\n",
       "      <td>NaN</td>\n",
       "      <td>NaN</td>\n",
       "      <td>4.0</td>\n",
       "      <td>NaN</td>\n",
       "      <td>NaN</td>\n",
       "      <td>...</td>\n",
       "      <td>NaN</td>\n",
       "      <td>NaN</td>\n",
       "      <td>NaN</td>\n",
       "      <td>4.0</td>\n",
       "      <td>NaN</td>\n",
       "      <td>NaN</td>\n",
       "      <td>NaN</td>\n",
       "      <td>NaN</td>\n",
       "      <td>4.0</td>\n",
       "      <td>NaN</td>\n",
       "    </tr>\n",
       "    <tr>\n",
       "      <th>...</th>\n",
       "      <td>...</td>\n",
       "      <td>...</td>\n",
       "      <td>...</td>\n",
       "      <td>...</td>\n",
       "      <td>...</td>\n",
       "      <td>...</td>\n",
       "      <td>...</td>\n",
       "      <td>...</td>\n",
       "      <td>...</td>\n",
       "      <td>...</td>\n",
       "      <td>...</td>\n",
       "      <td>...</td>\n",
       "      <td>...</td>\n",
       "      <td>...</td>\n",
       "      <td>...</td>\n",
       "      <td>...</td>\n",
       "      <td>...</td>\n",
       "      <td>...</td>\n",
       "      <td>...</td>\n",
       "      <td>...</td>\n",
       "      <td>...</td>\n",
       "    </tr>\n",
       "    <tr>\n",
       "      <th>939</th>\n",
       "      <td>NaN</td>\n",
       "      <td>NaN</td>\n",
       "      <td>NaN</td>\n",
       "      <td>NaN</td>\n",
       "      <td>NaN</td>\n",
       "      <td>NaN</td>\n",
       "      <td>NaN</td>\n",
       "      <td>NaN</td>\n",
       "      <td>NaN</td>\n",
       "      <td>NaN</td>\n",
       "      <td>...</td>\n",
       "      <td>NaN</td>\n",
       "      <td>NaN</td>\n",
       "      <td>NaN</td>\n",
       "      <td>NaN</td>\n",
       "      <td>NaN</td>\n",
       "      <td>NaN</td>\n",
       "      <td>NaN</td>\n",
       "      <td>NaN</td>\n",
       "      <td>NaN</td>\n",
       "      <td>NaN</td>\n",
       "    </tr>\n",
       "    <tr>\n",
       "      <th>940</th>\n",
       "      <td>NaN</td>\n",
       "      <td>NaN</td>\n",
       "      <td>NaN</td>\n",
       "      <td>NaN</td>\n",
       "      <td>NaN</td>\n",
       "      <td>NaN</td>\n",
       "      <td>NaN</td>\n",
       "      <td>NaN</td>\n",
       "      <td>NaN</td>\n",
       "      <td>NaN</td>\n",
       "      <td>...</td>\n",
       "      <td>NaN</td>\n",
       "      <td>NaN</td>\n",
       "      <td>NaN</td>\n",
       "      <td>NaN</td>\n",
       "      <td>NaN</td>\n",
       "      <td>NaN</td>\n",
       "      <td>NaN</td>\n",
       "      <td>NaN</td>\n",
       "      <td>NaN</td>\n",
       "      <td>NaN</td>\n",
       "    </tr>\n",
       "    <tr>\n",
       "      <th>941</th>\n",
       "      <td>NaN</td>\n",
       "      <td>NaN</td>\n",
       "      <td>NaN</td>\n",
       "      <td>NaN</td>\n",
       "      <td>NaN</td>\n",
       "      <td>NaN</td>\n",
       "      <td>NaN</td>\n",
       "      <td>NaN</td>\n",
       "      <td>NaN</td>\n",
       "      <td>NaN</td>\n",
       "      <td>...</td>\n",
       "      <td>NaN</td>\n",
       "      <td>NaN</td>\n",
       "      <td>NaN</td>\n",
       "      <td>NaN</td>\n",
       "      <td>NaN</td>\n",
       "      <td>NaN</td>\n",
       "      <td>NaN</td>\n",
       "      <td>NaN</td>\n",
       "      <td>NaN</td>\n",
       "      <td>NaN</td>\n",
       "    </tr>\n",
       "    <tr>\n",
       "      <th>942</th>\n",
       "      <td>NaN</td>\n",
       "      <td>NaN</td>\n",
       "      <td>NaN</td>\n",
       "      <td>NaN</td>\n",
       "      <td>NaN</td>\n",
       "      <td>NaN</td>\n",
       "      <td>NaN</td>\n",
       "      <td>3.0</td>\n",
       "      <td>NaN</td>\n",
       "      <td>3.0</td>\n",
       "      <td>...</td>\n",
       "      <td>NaN</td>\n",
       "      <td>NaN</td>\n",
       "      <td>NaN</td>\n",
       "      <td>NaN</td>\n",
       "      <td>NaN</td>\n",
       "      <td>NaN</td>\n",
       "      <td>NaN</td>\n",
       "      <td>NaN</td>\n",
       "      <td>NaN</td>\n",
       "      <td>NaN</td>\n",
       "    </tr>\n",
       "    <tr>\n",
       "      <th>943</th>\n",
       "      <td>NaN</td>\n",
       "      <td>NaN</td>\n",
       "      <td>NaN</td>\n",
       "      <td>NaN</td>\n",
       "      <td>NaN</td>\n",
       "      <td>2.0</td>\n",
       "      <td>NaN</td>\n",
       "      <td>NaN</td>\n",
       "      <td>NaN</td>\n",
       "      <td>NaN</td>\n",
       "      <td>...</td>\n",
       "      <td>NaN</td>\n",
       "      <td>NaN</td>\n",
       "      <td>NaN</td>\n",
       "      <td>NaN</td>\n",
       "      <td>4.0</td>\n",
       "      <td>3.0</td>\n",
       "      <td>NaN</td>\n",
       "      <td>NaN</td>\n",
       "      <td>NaN</td>\n",
       "      <td>NaN</td>\n",
       "    </tr>\n",
       "  </tbody>\n",
       "</table>\n",
       "<p>943 rows × 1664 columns</p>\n",
       "</div>"
      ],
      "text/plain": [
       "title    'Til There Was You (1997)  1-900 (1994)  101 Dalmatians (1996)  \\\n",
       "user_id                                                                   \n",
       "1                              NaN           NaN                    2.0   \n",
       "2                              NaN           NaN                    NaN   \n",
       "3                              NaN           NaN                    NaN   \n",
       "4                              NaN           NaN                    NaN   \n",
       "5                              NaN           NaN                    2.0   \n",
       "...                            ...           ...                    ...   \n",
       "939                            NaN           NaN                    NaN   \n",
       "940                            NaN           NaN                    NaN   \n",
       "941                            NaN           NaN                    NaN   \n",
       "942                            NaN           NaN                    NaN   \n",
       "943                            NaN           NaN                    NaN   \n",
       "\n",
       "title    12 Angry Men (1957)  187 (1997)  2 Days in the Valley (1996)  \\\n",
       "user_id                                                                 \n",
       "1                        5.0         NaN                          NaN   \n",
       "2                        NaN         NaN                          NaN   \n",
       "3                        NaN         2.0                          NaN   \n",
       "4                        NaN         NaN                          NaN   \n",
       "5                        NaN         NaN                          NaN   \n",
       "...                      ...         ...                          ...   \n",
       "939                      NaN         NaN                          NaN   \n",
       "940                      NaN         NaN                          NaN   \n",
       "941                      NaN         NaN                          NaN   \n",
       "942                      NaN         NaN                          NaN   \n",
       "943                      NaN         NaN                          2.0   \n",
       "\n",
       "title    20,000 Leagues Under the Sea (1954)  2001: A Space Odyssey (1968)  \\\n",
       "user_id                                                                      \n",
       "1                                        3.0                           4.0   \n",
       "2                                        NaN                           NaN   \n",
       "3                                        NaN                           NaN   \n",
       "4                                        NaN                           NaN   \n",
       "5                                        NaN                           4.0   \n",
       "...                                      ...                           ...   \n",
       "939                                      NaN                           NaN   \n",
       "940                                      NaN                           NaN   \n",
       "941                                      NaN                           NaN   \n",
       "942                                      NaN                           3.0   \n",
       "943                                      NaN                           NaN   \n",
       "\n",
       "title    3 Ninjas: High Noon At Mega Mountain (1998)  39 Steps, The (1935)  \\\n",
       "user_id                                                                      \n",
       "1                                                NaN                   NaN   \n",
       "2                                                1.0                   NaN   \n",
       "3                                                NaN                   NaN   \n",
       "4                                                NaN                   NaN   \n",
       "5                                                NaN                   NaN   \n",
       "...                                              ...                   ...   \n",
       "939                                              NaN                   NaN   \n",
       "940                                              NaN                   NaN   \n",
       "941                                              NaN                   NaN   \n",
       "942                                              NaN                   3.0   \n",
       "943                                              NaN                   NaN   \n",
       "\n",
       "title    ...  Yankee Zulu (1994)  Year of the Horse (1997)  \\\n",
       "user_id  ...                                                 \n",
       "1        ...                 NaN                       NaN   \n",
       "2        ...                 NaN                       NaN   \n",
       "3        ...                 NaN                       NaN   \n",
       "4        ...                 NaN                       NaN   \n",
       "5        ...                 NaN                       NaN   \n",
       "...      ...                 ...                       ...   \n",
       "939      ...                 NaN                       NaN   \n",
       "940      ...                 NaN                       NaN   \n",
       "941      ...                 NaN                       NaN   \n",
       "942      ...                 NaN                       NaN   \n",
       "943      ...                 NaN                       NaN   \n",
       "\n",
       "title    You So Crazy (1994)  Young Frankenstein (1974)  Young Guns (1988)  \\\n",
       "user_id                                                                      \n",
       "1                        NaN                        5.0                3.0   \n",
       "2                        NaN                        NaN                NaN   \n",
       "3                        NaN                        NaN                NaN   \n",
       "4                        NaN                        NaN                NaN   \n",
       "5                        NaN                        4.0                NaN   \n",
       "...                      ...                        ...                ...   \n",
       "939                      NaN                        NaN                NaN   \n",
       "940                      NaN                        NaN                NaN   \n",
       "941                      NaN                        NaN                NaN   \n",
       "942                      NaN                        NaN                NaN   \n",
       "943                      NaN                        NaN                4.0   \n",
       "\n",
       "title    Young Guns II (1990)  Young Poisoner's Handbook, The (1995)  \\\n",
       "user_id                                                                \n",
       "1                         NaN                                    NaN   \n",
       "2                         NaN                                    NaN   \n",
       "3                         NaN                                    NaN   \n",
       "4                         NaN                                    NaN   \n",
       "5                         NaN                                    NaN   \n",
       "...                       ...                                    ...   \n",
       "939                       NaN                                    NaN   \n",
       "940                       NaN                                    NaN   \n",
       "941                       NaN                                    NaN   \n",
       "942                       NaN                                    NaN   \n",
       "943                       3.0                                    NaN   \n",
       "\n",
       "title    Zeus and Roxanne (1997)  unknown  Á köldum klaka (Cold Fever) (1994)  \n",
       "user_id                                                                        \n",
       "1                            NaN      4.0                                 NaN  \n",
       "2                            NaN      NaN                                 NaN  \n",
       "3                            NaN      NaN                                 NaN  \n",
       "4                            NaN      NaN                                 NaN  \n",
       "5                            NaN      4.0                                 NaN  \n",
       "...                          ...      ...                                 ...  \n",
       "939                          NaN      NaN                                 NaN  \n",
       "940                          NaN      NaN                                 NaN  \n",
       "941                          NaN      NaN                                 NaN  \n",
       "942                          NaN      NaN                                 NaN  \n",
       "943                          NaN      NaN                                 NaN  \n",
       "\n",
       "[943 rows x 1664 columns]"
      ]
     },
     "execution_count": 20,
     "metadata": {},
     "output_type": "execute_result"
    }
   ],
   "source": [
    "moviemat"
   ]
  },
  {
   "cell_type": "code",
   "execution_count": 21,
   "id": "e9040733",
   "metadata": {
    "execution": {
     "iopub.execute_input": "2022-02-20T16:18:42.693431Z",
     "iopub.status.busy": "2022-02-20T16:18:42.692501Z",
     "iopub.status.idle": "2022-02-20T16:18:42.700938Z",
     "shell.execute_reply": "2022-02-20T16:18:42.701514Z",
     "shell.execute_reply.started": "2022-02-11T08:19:56.602975Z"
    },
    "papermill": {
     "duration": 0.058223,
     "end_time": "2022-02-20T16:18:42.701703",
     "exception": false,
     "start_time": "2022-02-20T16:18:42.643480",
     "status": "completed"
    },
    "tags": []
   },
   "outputs": [
    {
     "data": {
      "text/html": [
       "<div>\n",
       "<style scoped>\n",
       "    .dataframe tbody tr th:only-of-type {\n",
       "        vertical-align: middle;\n",
       "    }\n",
       "\n",
       "    .dataframe tbody tr th {\n",
       "        vertical-align: top;\n",
       "    }\n",
       "\n",
       "    .dataframe thead th {\n",
       "        text-align: right;\n",
       "    }\n",
       "</style>\n",
       "<table border=\"1\" class=\"dataframe\">\n",
       "  <thead>\n",
       "    <tr style=\"text-align: right;\">\n",
       "      <th></th>\n",
       "      <th>rating</th>\n",
       "      <th>no_of_ratings</th>\n",
       "    </tr>\n",
       "    <tr>\n",
       "      <th>title</th>\n",
       "      <th></th>\n",
       "      <th></th>\n",
       "    </tr>\n",
       "  </thead>\n",
       "  <tbody>\n",
       "    <tr>\n",
       "      <th>Star Wars (1977)</th>\n",
       "      <td>4.358491</td>\n",
       "      <td>583</td>\n",
       "    </tr>\n",
       "    <tr>\n",
       "      <th>Contact (1997)</th>\n",
       "      <td>3.803536</td>\n",
       "      <td>509</td>\n",
       "    </tr>\n",
       "    <tr>\n",
       "      <th>Fargo (1996)</th>\n",
       "      <td>4.155512</td>\n",
       "      <td>508</td>\n",
       "    </tr>\n",
       "    <tr>\n",
       "      <th>Return of the Jedi (1983)</th>\n",
       "      <td>4.007890</td>\n",
       "      <td>507</td>\n",
       "    </tr>\n",
       "    <tr>\n",
       "      <th>Liar Liar (1997)</th>\n",
       "      <td>3.156701</td>\n",
       "      <td>485</td>\n",
       "    </tr>\n",
       "  </tbody>\n",
       "</table>\n",
       "</div>"
      ],
      "text/plain": [
       "                             rating  no_of_ratings\n",
       "title                                             \n",
       "Star Wars (1977)           4.358491            583\n",
       "Contact (1997)             3.803536            509\n",
       "Fargo (1996)               4.155512            508\n",
       "Return of the Jedi (1983)  4.007890            507\n",
       "Liar Liar (1997)           3.156701            485"
      ]
     },
     "execution_count": 21,
     "metadata": {},
     "output_type": "execute_result"
    }
   ],
   "source": [
    "ratings.sort_values(\"no_of_ratings\",ascending=False).head()"
   ]
  },
  {
   "cell_type": "code",
   "execution_count": 22,
   "id": "1e82e516",
   "metadata": {
    "execution": {
     "iopub.execute_input": "2022-02-20T16:18:42.793234Z",
     "iopub.status.busy": "2022-02-20T16:18:42.792267Z",
     "iopub.status.idle": "2022-02-20T16:18:42.801737Z",
     "shell.execute_reply": "2022-02-20T16:18:42.802281Z",
     "shell.execute_reply.started": "2022-02-11T08:19:56.761546Z"
    },
    "papermill": {
     "duration": 0.057884,
     "end_time": "2022-02-20T16:18:42.802468",
     "exception": false,
     "start_time": "2022-02-20T16:18:42.744584",
     "status": "completed"
    },
    "tags": []
   },
   "outputs": [
    {
     "data": {
      "text/plain": [
       "user_id\n",
       "1    5.0\n",
       "2    5.0\n",
       "3    NaN\n",
       "4    5.0\n",
       "5    4.0\n",
       "Name: Star Wars (1977), dtype: float64"
      ]
     },
     "execution_count": 22,
     "metadata": {},
     "output_type": "execute_result"
    }
   ],
   "source": [
    "star_wars_rating = moviemat[\"Star Wars (1977)\"]\n",
    "star_wars_rating.head()"
   ]
  },
  {
   "cell_type": "code",
   "execution_count": 23,
   "id": "0926b9db",
   "metadata": {
    "execution": {
     "iopub.execute_input": "2022-02-20T16:18:42.898853Z",
     "iopub.status.busy": "2022-02-20T16:18:42.896439Z",
     "iopub.status.idle": "2022-02-20T16:18:43.399777Z",
     "shell.execute_reply": "2022-02-20T16:18:43.400261Z",
     "shell.execute_reply.started": "2022-02-11T08:19:57.061771Z"
    },
    "papermill": {
     "duration": 0.553867,
     "end_time": "2022-02-20T16:18:43.400444",
     "exception": false,
     "start_time": "2022-02-20T16:18:42.846577",
     "status": "completed"
    },
    "tags": []
   },
   "outputs": [],
   "source": [
    "similar_to_starwars=moviemat.corrwith(star_wars_rating)"
   ]
  },
  {
   "cell_type": "code",
   "execution_count": 24,
   "id": "47008b2e",
   "metadata": {
    "execution": {
     "iopub.execute_input": "2022-02-20T16:18:43.493585Z",
     "iopub.status.busy": "2022-02-20T16:18:43.492910Z",
     "iopub.status.idle": "2022-02-20T16:18:43.498272Z",
     "shell.execute_reply": "2022-02-20T16:18:43.498881Z",
     "shell.execute_reply.started": "2022-02-11T08:19:57.544022Z"
    },
    "papermill": {
     "duration": 0.054363,
     "end_time": "2022-02-20T16:18:43.499052",
     "exception": false,
     "start_time": "2022-02-20T16:18:43.444689",
     "status": "completed"
    },
    "tags": []
   },
   "outputs": [
    {
     "data": {
      "text/plain": [
       "title\n",
       "'Til There Was You (1997)                0.872872\n",
       "1-900 (1994)                            -0.645497\n",
       "101 Dalmatians (1996)                    0.211132\n",
       "12 Angry Men (1957)                      0.184289\n",
       "187 (1997)                               0.027398\n",
       "                                           ...   \n",
       "Young Guns II (1990)                     0.228615\n",
       "Young Poisoner's Handbook, The (1995)   -0.007374\n",
       "Zeus and Roxanne (1997)                  0.818182\n",
       "unknown                                  0.723123\n",
       "Á köldum klaka (Cold Fever) (1994)            NaN\n",
       "Length: 1664, dtype: float64"
      ]
     },
     "execution_count": 24,
     "metadata": {},
     "output_type": "execute_result"
    }
   ],
   "source": [
    "similar_to_starwars"
   ]
  },
  {
   "cell_type": "code",
   "execution_count": 25,
   "id": "3a4a8cb0",
   "metadata": {
    "execution": {
     "iopub.execute_input": "2022-02-20T16:18:43.593144Z",
     "iopub.status.busy": "2022-02-20T16:18:43.592039Z",
     "iopub.status.idle": "2022-02-20T16:18:43.594732Z",
     "shell.execute_reply": "2022-02-20T16:18:43.595424Z",
     "shell.execute_reply.started": "2022-02-11T08:19:57.749878Z"
    },
    "papermill": {
     "duration": 0.052826,
     "end_time": "2022-02-20T16:18:43.595635",
     "exception": false,
     "start_time": "2022-02-20T16:18:43.542809",
     "status": "completed"
    },
    "tags": []
   },
   "outputs": [],
   "source": [
    "corr_starwars =pd.DataFrame(similar_to_starwars,columns=[\"correlation\"])"
   ]
  },
  {
   "cell_type": "code",
   "execution_count": 26,
   "id": "b9968d7e",
   "metadata": {
    "execution": {
     "iopub.execute_input": "2022-02-20T16:18:43.694216Z",
     "iopub.status.busy": "2022-02-20T16:18:43.693266Z",
     "iopub.status.idle": "2022-02-20T16:18:43.704639Z",
     "shell.execute_reply": "2022-02-20T16:18:43.705464Z",
     "shell.execute_reply.started": "2022-02-11T08:19:58.251879Z"
    },
    "papermill": {
     "duration": 0.063378,
     "end_time": "2022-02-20T16:18:43.705685",
     "exception": false,
     "start_time": "2022-02-20T16:18:43.642307",
     "status": "completed"
    },
    "tags": []
   },
   "outputs": [
    {
     "data": {
      "text/html": [
       "<div>\n",
       "<style scoped>\n",
       "    .dataframe tbody tr th:only-of-type {\n",
       "        vertical-align: middle;\n",
       "    }\n",
       "\n",
       "    .dataframe tbody tr th {\n",
       "        vertical-align: top;\n",
       "    }\n",
       "\n",
       "    .dataframe thead th {\n",
       "        text-align: right;\n",
       "    }\n",
       "</style>\n",
       "<table border=\"1\" class=\"dataframe\">\n",
       "  <thead>\n",
       "    <tr style=\"text-align: right;\">\n",
       "      <th></th>\n",
       "      <th>correlation</th>\n",
       "    </tr>\n",
       "    <tr>\n",
       "      <th>title</th>\n",
       "      <th></th>\n",
       "    </tr>\n",
       "  </thead>\n",
       "  <tbody>\n",
       "    <tr>\n",
       "      <th>Commandments (1997)</th>\n",
       "      <td>1.0</td>\n",
       "    </tr>\n",
       "    <tr>\n",
       "      <th>Cosi (1996)</th>\n",
       "      <td>1.0</td>\n",
       "    </tr>\n",
       "    <tr>\n",
       "      <th>No Escape (1994)</th>\n",
       "      <td>1.0</td>\n",
       "    </tr>\n",
       "    <tr>\n",
       "      <th>Stripes (1981)</th>\n",
       "      <td>1.0</td>\n",
       "    </tr>\n",
       "    <tr>\n",
       "      <th>Man of the Year (1995)</th>\n",
       "      <td>1.0</td>\n",
       "    </tr>\n",
       "    <tr>\n",
       "      <th>...</th>\n",
       "      <td>...</td>\n",
       "    </tr>\n",
       "    <tr>\n",
       "      <th>Roseanna's Grave (For Roseanna) (1997)</th>\n",
       "      <td>-1.0</td>\n",
       "    </tr>\n",
       "    <tr>\n",
       "      <th>For Ever Mozart (1996)</th>\n",
       "      <td>-1.0</td>\n",
       "    </tr>\n",
       "    <tr>\n",
       "      <th>American Dream (1990)</th>\n",
       "      <td>-1.0</td>\n",
       "    </tr>\n",
       "    <tr>\n",
       "      <th>Frankie Starlight (1995)</th>\n",
       "      <td>-1.0</td>\n",
       "    </tr>\n",
       "    <tr>\n",
       "      <th>Fille seule, La (A Single Girl) (1995)</th>\n",
       "      <td>-1.0</td>\n",
       "    </tr>\n",
       "  </tbody>\n",
       "</table>\n",
       "<p>1410 rows × 1 columns</p>\n",
       "</div>"
      ],
      "text/plain": [
       "                                        correlation\n",
       "title                                              \n",
       "Commandments (1997)                             1.0\n",
       "Cosi (1996)                                     1.0\n",
       "No Escape (1994)                                1.0\n",
       "Stripes (1981)                                  1.0\n",
       "Man of the Year (1995)                          1.0\n",
       "...                                             ...\n",
       "Roseanna's Grave (For Roseanna) (1997)         -1.0\n",
       "For Ever Mozart (1996)                         -1.0\n",
       "American Dream (1990)                          -1.0\n",
       "Frankie Starlight (1995)                       -1.0\n",
       "Fille seule, La (A Single Girl) (1995)         -1.0\n",
       "\n",
       "[1410 rows x 1 columns]"
      ]
     },
     "execution_count": 26,
     "metadata": {},
     "output_type": "execute_result"
    }
   ],
   "source": [
    "corr_starwars.dropna(inplace=True)\n",
    "corr_starwars.sort_values(\"correlation\",ascending=False)"
   ]
  },
  {
   "cell_type": "code",
   "execution_count": 27,
   "id": "73158f81",
   "metadata": {
    "execution": {
     "iopub.execute_input": "2022-02-20T16:18:43.807377Z",
     "iopub.status.busy": "2022-02-20T16:18:43.806712Z",
     "iopub.status.idle": "2022-02-20T16:18:43.808788Z",
     "shell.execute_reply": "2022-02-20T16:18:43.809284Z",
     "shell.execute_reply.started": "2022-02-11T08:19:58.761484Z"
    },
    "papermill": {
     "duration": 0.059744,
     "end_time": "2022-02-20T16:18:43.809463",
     "exception": false,
     "start_time": "2022-02-20T16:18:43.749719",
     "status": "completed"
    },
    "tags": []
   },
   "outputs": [],
   "source": [
    "corr_starwars=corr_starwars.join(ratings[\"no_of_ratings\"])"
   ]
  },
  {
   "cell_type": "code",
   "execution_count": 28,
   "id": "ffe38e3a",
   "metadata": {
    "execution": {
     "iopub.execute_input": "2022-02-20T16:18:43.901045Z",
     "iopub.status.busy": "2022-02-20T16:18:43.897944Z",
     "iopub.status.idle": "2022-02-20T16:18:43.913695Z",
     "shell.execute_reply": "2022-02-20T16:18:43.914440Z",
     "shell.execute_reply.started": "2022-02-11T08:19:59.372147Z"
    },
    "papermill": {
     "duration": 0.061865,
     "end_time": "2022-02-20T16:18:43.914662",
     "exception": false,
     "start_time": "2022-02-20T16:18:43.852797",
     "status": "completed"
    },
    "tags": []
   },
   "outputs": [
    {
     "data": {
      "text/html": [
       "<div>\n",
       "<style scoped>\n",
       "    .dataframe tbody tr th:only-of-type {\n",
       "        vertical-align: middle;\n",
       "    }\n",
       "\n",
       "    .dataframe tbody tr th {\n",
       "        vertical-align: top;\n",
       "    }\n",
       "\n",
       "    .dataframe thead th {\n",
       "        text-align: right;\n",
       "    }\n",
       "</style>\n",
       "<table border=\"1\" class=\"dataframe\">\n",
       "  <thead>\n",
       "    <tr style=\"text-align: right;\">\n",
       "      <th></th>\n",
       "      <th>correlation</th>\n",
       "      <th>no_of_ratings</th>\n",
       "    </tr>\n",
       "    <tr>\n",
       "      <th>title</th>\n",
       "      <th></th>\n",
       "      <th></th>\n",
       "    </tr>\n",
       "  </thead>\n",
       "  <tbody>\n",
       "    <tr>\n",
       "      <th>Star Wars (1977)</th>\n",
       "      <td>1.000000</td>\n",
       "      <td>583</td>\n",
       "    </tr>\n",
       "    <tr>\n",
       "      <th>Empire Strikes Back, The (1980)</th>\n",
       "      <td>0.747981</td>\n",
       "      <td>367</td>\n",
       "    </tr>\n",
       "    <tr>\n",
       "      <th>Return of the Jedi (1983)</th>\n",
       "      <td>0.672556</td>\n",
       "      <td>507</td>\n",
       "    </tr>\n",
       "    <tr>\n",
       "      <th>Raiders of the Lost Ark (1981)</th>\n",
       "      <td>0.536117</td>\n",
       "      <td>420</td>\n",
       "    </tr>\n",
       "    <tr>\n",
       "      <th>Austin Powers: International Man of Mystery (1997)</th>\n",
       "      <td>0.377433</td>\n",
       "      <td>130</td>\n",
       "    </tr>\n",
       "    <tr>\n",
       "      <th>...</th>\n",
       "      <td>...</td>\n",
       "      <td>...</td>\n",
       "    </tr>\n",
       "    <tr>\n",
       "      <th>Edge, The (1997)</th>\n",
       "      <td>-0.127167</td>\n",
       "      <td>113</td>\n",
       "    </tr>\n",
       "    <tr>\n",
       "      <th>As Good As It Gets (1997)</th>\n",
       "      <td>-0.130466</td>\n",
       "      <td>112</td>\n",
       "    </tr>\n",
       "    <tr>\n",
       "      <th>Crash (1996)</th>\n",
       "      <td>-0.148507</td>\n",
       "      <td>128</td>\n",
       "    </tr>\n",
       "    <tr>\n",
       "      <th>G.I. Jane (1997)</th>\n",
       "      <td>-0.176734</td>\n",
       "      <td>175</td>\n",
       "    </tr>\n",
       "    <tr>\n",
       "      <th>First Wives Club, The (1996)</th>\n",
       "      <td>-0.194496</td>\n",
       "      <td>160</td>\n",
       "    </tr>\n",
       "  </tbody>\n",
       "</table>\n",
       "<p>334 rows × 2 columns</p>\n",
       "</div>"
      ],
      "text/plain": [
       "                                                    correlation  no_of_ratings\n",
       "title                                                                         \n",
       "Star Wars (1977)                                       1.000000            583\n",
       "Empire Strikes Back, The (1980)                        0.747981            367\n",
       "Return of the Jedi (1983)                              0.672556            507\n",
       "Raiders of the Lost Ark (1981)                         0.536117            420\n",
       "Austin Powers: International Man of Mystery (1997)     0.377433            130\n",
       "...                                                         ...            ...\n",
       "Edge, The (1997)                                      -0.127167            113\n",
       "As Good As It Gets (1997)                             -0.130466            112\n",
       "Crash (1996)                                          -0.148507            128\n",
       "G.I. Jane (1997)                                      -0.176734            175\n",
       "First Wives Club, The (1996)                          -0.194496            160\n",
       "\n",
       "[334 rows x 2 columns]"
      ]
     },
     "execution_count": 28,
     "metadata": {},
     "output_type": "execute_result"
    }
   ],
   "source": [
    "corr_starwars[corr_starwars[\"no_of_ratings\"]>100].sort_values(\"correlation\",ascending=False)"
   ]
  },
  {
   "cell_type": "code",
   "execution_count": 29,
   "id": "8a3c5c97",
   "metadata": {
    "execution": {
     "iopub.execute_input": "2022-02-20T16:18:44.009881Z",
     "iopub.status.busy": "2022-02-20T16:18:44.008892Z",
     "iopub.status.idle": "2022-02-20T16:18:44.016463Z",
     "shell.execute_reply": "2022-02-20T16:18:44.017075Z",
     "shell.execute_reply.started": "2022-02-11T08:20:00.363028Z"
    },
    "papermill": {
     "duration": 0.057825,
     "end_time": "2022-02-20T16:18:44.017486",
     "exception": false,
     "start_time": "2022-02-20T16:18:43.959661",
     "status": "completed"
    },
    "tags": []
   },
   "outputs": [],
   "source": [
    "def predict_movies(movie_name):\n",
    "    movie_rating = moviemat[movie_name]\n",
    "    similar_to_movie=moviemat.corrwith(movie_rating)\n",
    "    corr_movie =pd.DataFrame(similar_to_movie,columns=[\"correlation\"])\n",
    "    corr_movie.dropna(inplace=True)\n",
    "    corr_movie.sort_values(\"correlation\",ascending=False)\n",
    "    corr_movie=corr_movie.join(ratings[\"no_of_ratings\"])\n",
    "    predictions = corr_movie[corr_movie[\"no_of_ratings\"]>100].sort_values(\"correlation\",ascending=False)\n",
    "    \n",
    "    return predictions"
   ]
  },
  {
   "cell_type": "code",
   "execution_count": 30,
   "id": "b23722cf",
   "metadata": {
    "execution": {
     "iopub.execute_input": "2022-02-20T16:18:44.113033Z",
     "iopub.status.busy": "2022-02-20T16:18:44.112202Z",
     "iopub.status.idle": "2022-02-20T16:18:44.586244Z",
     "shell.execute_reply": "2022-02-20T16:18:44.585528Z",
     "shell.execute_reply.started": "2022-02-11T08:20:35.746053Z"
    },
    "papermill": {
     "duration": 0.522879,
     "end_time": "2022-02-20T16:18:44.586404",
     "exception": false,
     "start_time": "2022-02-20T16:18:44.063525",
     "status": "completed"
    },
    "tags": []
   },
   "outputs": [],
   "source": [
    "predictions = predict_movies(\"First Wives Club, The (1996)\")"
   ]
  },
  {
   "cell_type": "code",
   "execution_count": 31,
   "id": "29ab12ff",
   "metadata": {
    "execution": {
     "iopub.execute_input": "2022-02-20T16:18:44.692306Z",
     "iopub.status.busy": "2022-02-20T16:18:44.691233Z",
     "iopub.status.idle": "2022-02-20T16:18:44.696124Z",
     "shell.execute_reply": "2022-02-20T16:18:44.695357Z",
     "shell.execute_reply.started": "2022-02-11T08:20:50.066001Z"
    },
    "papermill": {
     "duration": 0.06137,
     "end_time": "2022-02-20T16:18:44.696278",
     "exception": false,
     "start_time": "2022-02-20T16:18:44.634908",
     "status": "completed"
    },
    "tags": []
   },
   "outputs": [
    {
     "data": {
      "text/html": [
       "<div>\n",
       "<style scoped>\n",
       "    .dataframe tbody tr th:only-of-type {\n",
       "        vertical-align: middle;\n",
       "    }\n",
       "\n",
       "    .dataframe tbody tr th {\n",
       "        vertical-align: top;\n",
       "    }\n",
       "\n",
       "    .dataframe thead th {\n",
       "        text-align: right;\n",
       "    }\n",
       "</style>\n",
       "<table border=\"1\" class=\"dataframe\">\n",
       "  <thead>\n",
       "    <tr style=\"text-align: right;\">\n",
       "      <th></th>\n",
       "      <th>correlation</th>\n",
       "      <th>no_of_ratings</th>\n",
       "    </tr>\n",
       "    <tr>\n",
       "      <th>title</th>\n",
       "      <th></th>\n",
       "      <th></th>\n",
       "    </tr>\n",
       "  </thead>\n",
       "  <tbody>\n",
       "    <tr>\n",
       "      <th>First Wives Club, The (1996)</th>\n",
       "      <td>1.000000</td>\n",
       "      <td>160</td>\n",
       "    </tr>\n",
       "    <tr>\n",
       "      <th>Young Guns (1988)</th>\n",
       "      <td>0.569725</td>\n",
       "      <td>101</td>\n",
       "    </tr>\n",
       "    <tr>\n",
       "      <th>Little Women (1994)</th>\n",
       "      <td>0.526990</td>\n",
       "      <td>102</td>\n",
       "    </tr>\n",
       "    <tr>\n",
       "      <th>Arsenic and Old Lace (1944)</th>\n",
       "      <td>0.521563</td>\n",
       "      <td>115</td>\n",
       "    </tr>\n",
       "    <tr>\n",
       "      <th>Manchurian Candidate, The (1962)</th>\n",
       "      <td>0.512639</td>\n",
       "      <td>131</td>\n",
       "    </tr>\n",
       "  </tbody>\n",
       "</table>\n",
       "</div>"
      ],
      "text/plain": [
       "                                  correlation  no_of_ratings\n",
       "title                                                       \n",
       "First Wives Club, The (1996)         1.000000            160\n",
       "Young Guns (1988)                    0.569725            101\n",
       "Little Women (1994)                  0.526990            102\n",
       "Arsenic and Old Lace (1944)          0.521563            115\n",
       "Manchurian Candidate, The (1962)     0.512639            131"
      ]
     },
     "execution_count": 31,
     "metadata": {},
     "output_type": "execute_result"
    }
   ],
   "source": [
    "predictions.head()"
   ]
  },
  {
   "cell_type": "markdown",
   "id": "7014fc24",
   "metadata": {
    "papermill": {
     "duration": 0.046453,
     "end_time": "2022-02-20T16:18:44.791665",
     "exception": false,
     "start_time": "2022-02-20T16:18:44.745212",
     "status": "completed"
    },
    "tags": []
   },
   "source": []
  }
 ],
 "metadata": {
  "kernelspec": {
   "display_name": "Python 3",
   "language": "python",
   "name": "python3"
  },
  "language_info": {
   "codemirror_mode": {
    "name": "ipython",
    "version": 3
   },
   "file_extension": ".py",
   "mimetype": "text/x-python",
   "name": "python",
   "nbconvert_exporter": "python",
   "pygments_lexer": "ipython3",
   "version": "3.7.12"
  },
  "papermill": {
   "default_parameters": {},
   "duration": 17.525431,
   "end_time": "2022-02-20T16:18:45.547647",
   "environment_variables": {},
   "exception": null,
   "input_path": "__notebook__.ipynb",
   "output_path": "__notebook__.ipynb",
   "parameters": {},
   "start_time": "2022-02-20T16:18:28.022216",
   "version": "2.3.3"
  }
 },
 "nbformat": 4,
 "nbformat_minor": 5
}
